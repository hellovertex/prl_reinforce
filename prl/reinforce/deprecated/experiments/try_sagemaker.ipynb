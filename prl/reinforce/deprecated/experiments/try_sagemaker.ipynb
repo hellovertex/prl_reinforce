{
 "cells": [
  {
   "cell_type": "code",
   "execution_count": 1,
   "metadata": {
    "collapsed": true
   },
   "outputs": [],
   "source": [
    "from sagemaker import image_uris\n",
    "\n",
    "role = \"arn:aws:iam::397646014003:role/service-role/AmazonSageMaker-ExecutionRole-20230105T210271\"\n",
    "\n",
    "instance_type = \"local\"\n",
    "image_name = \"763104351884.dkr.ecr.us-east-1.amazonaws.com/pytorch-training:1.12.1-cpu-py38-ubuntu20.04-sagemaker\"\n",
    "image_uri = image_uris.retrieve(framework='ray-pytorch',\n",
    "                                region='eu-central-1',\n",
    "                                version='0.8.5',\n",
    "                                instance_type=instance_type)"
   ]
  },
  {
   "cell_type": "code",
   "execution_count": 2,
   "outputs": [],
   "source": [
    "# import os\n",
    "# import subprocess\n",
    "# if subprocess.call(\"nvidia-smi\") == 0:\n",
    "#     ## Set type to GPU if one is present\n",
    "#     instance_type = \"local_gpu\"\n",
    "#\n",
    "# print(\"Instance type = \" + instance_type)"
   ],
   "metadata": {
    "collapsed": false
   }
  },
  {
   "cell_type": "code",
   "execution_count": 3,
   "outputs": [
    {
     "name": "stderr",
     "output_type": "stream",
     "text": [
      "train_instance_count has been renamed in sagemaker>=2.\n",
      "See: https://sagemaker.readthedocs.io/en/stable/v2.html for details.\n",
      "train_instance_type has been renamed in sagemaker>=2.\n",
      "See: https://sagemaker.readthedocs.io/en/stable/v2.html for details.\n",
      "INFO:sagemaker:Creating training-job with name: sagemaker-rl-ray-container-2023-01-05-23-34-30-646\n"
     ]
    },
    {
     "ename": "ImportError",
     "evalue": "'docker-compose' is not installed. Local Mode features will not work without docker-compose. For more information on how to install 'docker-compose', please, see https://docs.docker.com/compose/install/",
     "output_type": "error",
     "traceback": [
      "\u001B[0;31m---------------------------------------------------------------------------\u001B[0m",
      "\u001B[0;31mImportError\u001B[0m                               Traceback (most recent call last)",
      "Cell \u001B[0;32mIn [3], line 13\u001B[0m\n\u001B[1;32m      3\u001B[0m hyperparameters \u001B[38;5;241m=\u001B[39m {\u001B[38;5;124m\"\u001B[39m\u001B[38;5;124mepochs\u001B[39m\u001B[38;5;124m\"\u001B[39m: \u001B[38;5;241m2\u001B[39m}\n\u001B[1;32m      5\u001B[0m estimator \u001B[38;5;241m=\u001B[39m Estimator(\n\u001B[1;32m      6\u001B[0m     role\u001B[38;5;241m=\u001B[39mrole,\n\u001B[1;32m      7\u001B[0m     train_instance_count\u001B[38;5;241m=\u001B[39m\u001B[38;5;241m1\u001B[39m,\n\u001B[0;32m   (...)\u001B[0m\n\u001B[1;32m     10\u001B[0m     hyperparameters\u001B[38;5;241m=\u001B[39mhyperparameters,\n\u001B[1;32m     11\u001B[0m )\n\u001B[0;32m---> 13\u001B[0m \u001B[43mestimator\u001B[49m\u001B[38;5;241;43m.\u001B[39;49m\u001B[43mfit\u001B[49m\u001B[43m(\u001B[49m\u001B[38;5;124;43m\"\u001B[39;49m\u001B[38;5;124;43mfile:///home/sascha/Documents/github.com/prl_reinforce/prl/reinforce/experiments/try_sagemaker_train.py\u001B[39;49m\u001B[38;5;124;43m\"\u001B[39;49m\u001B[43m)\u001B[49m\n",
      "File \u001B[0;32m~/Documents/github.com/env_prl/lib/python3.8/site-packages/sagemaker/workflow/pipeline_context.py:272\u001B[0m, in \u001B[0;36mrunnable_by_pipeline.<locals>.wrapper\u001B[0;34m(*args, **kwargs)\u001B[0m\n\u001B[1;32m    268\u001B[0m         \u001B[38;5;28;01mreturn\u001B[39;00m context\n\u001B[1;32m    270\u001B[0m     \u001B[38;5;28;01mreturn\u001B[39;00m _StepArguments(retrieve_caller_name(self_instance), run_func, \u001B[38;5;241m*\u001B[39margs, \u001B[38;5;241m*\u001B[39m\u001B[38;5;241m*\u001B[39mkwargs)\n\u001B[0;32m--> 272\u001B[0m \u001B[38;5;28;01mreturn\u001B[39;00m \u001B[43mrun_func\u001B[49m\u001B[43m(\u001B[49m\u001B[38;5;241;43m*\u001B[39;49m\u001B[43margs\u001B[49m\u001B[43m,\u001B[49m\u001B[43m \u001B[49m\u001B[38;5;241;43m*\u001B[39;49m\u001B[38;5;241;43m*\u001B[39;49m\u001B[43mkwargs\u001B[49m\u001B[43m)\u001B[49m\n",
      "File \u001B[0;32m~/Documents/github.com/env_prl/lib/python3.8/site-packages/sagemaker/estimator.py:1130\u001B[0m, in \u001B[0;36mEstimatorBase.fit\u001B[0;34m(self, inputs, wait, logs, job_name, experiment_config)\u001B[0m\n\u001B[1;32m   1127\u001B[0m \u001B[38;5;28mself\u001B[39m\u001B[38;5;241m.\u001B[39m_prepare_for_training(job_name\u001B[38;5;241m=\u001B[39mjob_name)\n\u001B[1;32m   1129\u001B[0m experiment_config \u001B[38;5;241m=\u001B[39m check_and_get_run_experiment_config(experiment_config)\n\u001B[0;32m-> 1130\u001B[0m \u001B[38;5;28mself\u001B[39m\u001B[38;5;241m.\u001B[39mlatest_training_job \u001B[38;5;241m=\u001B[39m \u001B[43m_TrainingJob\u001B[49m\u001B[38;5;241;43m.\u001B[39;49m\u001B[43mstart_new\u001B[49m\u001B[43m(\u001B[49m\u001B[38;5;28;43mself\u001B[39;49m\u001B[43m,\u001B[49m\u001B[43m \u001B[49m\u001B[43minputs\u001B[49m\u001B[43m,\u001B[49m\u001B[43m \u001B[49m\u001B[43mexperiment_config\u001B[49m\u001B[43m)\u001B[49m\n\u001B[1;32m   1131\u001B[0m \u001B[38;5;28mself\u001B[39m\u001B[38;5;241m.\u001B[39mjobs\u001B[38;5;241m.\u001B[39mappend(\u001B[38;5;28mself\u001B[39m\u001B[38;5;241m.\u001B[39mlatest_training_job)\n\u001B[1;32m   1132\u001B[0m \u001B[38;5;28;01mif\u001B[39;00m wait:\n",
      "File \u001B[0;32m~/Documents/github.com/env_prl/lib/python3.8/site-packages/sagemaker/estimator.py:2048\u001B[0m, in \u001B[0;36m_TrainingJob.start_new\u001B[0;34m(cls, estimator, inputs, experiment_config)\u001B[0m\n\u001B[1;32m   2023\u001B[0m \u001B[38;5;124;03m\"\"\"Create a new Amazon SageMaker training job from the estimator.\u001B[39;00m\n\u001B[1;32m   2024\u001B[0m \n\u001B[1;32m   2025\u001B[0m \u001B[38;5;124;03mArgs:\u001B[39;00m\n\u001B[0;32m   (...)\u001B[0m\n\u001B[1;32m   2044\u001B[0m \u001B[38;5;124;03m    all information about the started training job.\u001B[39;00m\n\u001B[1;32m   2045\u001B[0m \u001B[38;5;124;03m\"\"\"\u001B[39;00m\n\u001B[1;32m   2046\u001B[0m train_args \u001B[38;5;241m=\u001B[39m \u001B[38;5;28mcls\u001B[39m\u001B[38;5;241m.\u001B[39m_get_train_args(estimator, inputs, experiment_config)\n\u001B[0;32m-> 2048\u001B[0m \u001B[43mestimator\u001B[49m\u001B[38;5;241;43m.\u001B[39;49m\u001B[43msagemaker_session\u001B[49m\u001B[38;5;241;43m.\u001B[39;49m\u001B[43mtrain\u001B[49m\u001B[43m(\u001B[49m\u001B[38;5;241;43m*\u001B[39;49m\u001B[38;5;241;43m*\u001B[39;49m\u001B[43mtrain_args\u001B[49m\u001B[43m)\u001B[49m\n\u001B[1;32m   2050\u001B[0m \u001B[38;5;28;01mreturn\u001B[39;00m \u001B[38;5;28mcls\u001B[39m(estimator\u001B[38;5;241m.\u001B[39msagemaker_session, estimator\u001B[38;5;241m.\u001B[39m_current_job_name)\n",
      "File \u001B[0;32m~/Documents/github.com/env_prl/lib/python3.8/site-packages/sagemaker/session.py:627\u001B[0m, in \u001B[0;36mSession.train\u001B[0;34m(self, input_mode, input_config, role, job_name, output_config, resource_config, vpc_config, hyperparameters, stop_condition, tags, metric_definitions, enable_network_isolation, image_uri, algorithm_arn, encrypt_inter_container_traffic, use_spot_instances, checkpoint_s3_uri, checkpoint_local_path, experiment_config, debugger_rule_configs, debugger_hook_config, tensorboard_output_config, enable_sagemaker_metrics, profiler_rule_configs, profiler_config, environment, retry_strategy)\u001B[0m\n\u001B[1;32m    624\u001B[0m     LOGGER\u001B[38;5;241m.\u001B[39mdebug(\u001B[38;5;124m\"\u001B[39m\u001B[38;5;124mtrain request: \u001B[39m\u001B[38;5;132;01m%s\u001B[39;00m\u001B[38;5;124m\"\u001B[39m, json\u001B[38;5;241m.\u001B[39mdumps(request, indent\u001B[38;5;241m=\u001B[39m\u001B[38;5;241m4\u001B[39m))\n\u001B[1;32m    625\u001B[0m     \u001B[38;5;28mself\u001B[39m\u001B[38;5;241m.\u001B[39msagemaker_client\u001B[38;5;241m.\u001B[39mcreate_training_job(\u001B[38;5;241m*\u001B[39m\u001B[38;5;241m*\u001B[39mrequest)\n\u001B[0;32m--> 627\u001B[0m \u001B[38;5;28;43mself\u001B[39;49m\u001B[38;5;241;43m.\u001B[39;49m\u001B[43m_intercept_create_request\u001B[49m\u001B[43m(\u001B[49m\u001B[43mtrain_request\u001B[49m\u001B[43m,\u001B[49m\u001B[43m \u001B[49m\u001B[43msubmit\u001B[49m\u001B[43m,\u001B[49m\u001B[43m \u001B[49m\u001B[38;5;28;43mself\u001B[39;49m\u001B[38;5;241;43m.\u001B[39;49m\u001B[43mtrain\u001B[49m\u001B[38;5;241;43m.\u001B[39;49m\u001B[38;5;18;43m__name__\u001B[39;49m\u001B[43m)\u001B[49m\n",
      "File \u001B[0;32m~/Documents/github.com/env_prl/lib/python3.8/site-packages/sagemaker/session.py:4656\u001B[0m, in \u001B[0;36mSession._intercept_create_request\u001B[0;34m(self, request, create, func_name)\u001B[0m\n\u001B[1;32m   4643\u001B[0m \u001B[38;5;28;01mdef\u001B[39;00m \u001B[38;5;21m_intercept_create_request\u001B[39m(\n\u001B[1;32m   4644\u001B[0m     \u001B[38;5;28mself\u001B[39m, request: typing\u001B[38;5;241m.\u001B[39mDict, create, func_name: \u001B[38;5;28mstr\u001B[39m \u001B[38;5;241m=\u001B[39m \u001B[38;5;28;01mNone\u001B[39;00m  \u001B[38;5;66;03m# pylint: disable=unused-argument\u001B[39;00m\n\u001B[1;32m   4645\u001B[0m ):\n\u001B[1;32m   4646\u001B[0m     \u001B[38;5;124;03m\"\"\"This function intercepts the create job request.\u001B[39;00m\n\u001B[1;32m   4647\u001B[0m \n\u001B[1;32m   4648\u001B[0m \u001B[38;5;124;03m    PipelineSession inherits this Session class and will override\u001B[39;00m\n\u001B[0;32m   (...)\u001B[0m\n\u001B[1;32m   4654\u001B[0m \u001B[38;5;124;03m        func_name (str): the name of the function needed intercepting\u001B[39;00m\n\u001B[1;32m   4655\u001B[0m \u001B[38;5;124;03m    \"\"\"\u001B[39;00m\n\u001B[0;32m-> 4656\u001B[0m     \u001B[38;5;28;01mreturn\u001B[39;00m \u001B[43mcreate\u001B[49m\u001B[43m(\u001B[49m\u001B[43mrequest\u001B[49m\u001B[43m)\u001B[49m\n",
      "File \u001B[0;32m~/Documents/github.com/env_prl/lib/python3.8/site-packages/sagemaker/session.py:625\u001B[0m, in \u001B[0;36mSession.train.<locals>.submit\u001B[0;34m(request)\u001B[0m\n\u001B[1;32m    623\u001B[0m LOGGER\u001B[38;5;241m.\u001B[39minfo(\u001B[38;5;124m\"\u001B[39m\u001B[38;5;124mCreating training-job with name: \u001B[39m\u001B[38;5;132;01m%s\u001B[39;00m\u001B[38;5;124m\"\u001B[39m, job_name)\n\u001B[1;32m    624\u001B[0m LOGGER\u001B[38;5;241m.\u001B[39mdebug(\u001B[38;5;124m\"\u001B[39m\u001B[38;5;124mtrain request: \u001B[39m\u001B[38;5;132;01m%s\u001B[39;00m\u001B[38;5;124m\"\u001B[39m, json\u001B[38;5;241m.\u001B[39mdumps(request, indent\u001B[38;5;241m=\u001B[39m\u001B[38;5;241m4\u001B[39m))\n\u001B[0;32m--> 625\u001B[0m \u001B[38;5;28;43mself\u001B[39;49m\u001B[38;5;241;43m.\u001B[39;49m\u001B[43msagemaker_client\u001B[49m\u001B[38;5;241;43m.\u001B[39;49m\u001B[43mcreate_training_job\u001B[49m\u001B[43m(\u001B[49m\u001B[38;5;241;43m*\u001B[39;49m\u001B[38;5;241;43m*\u001B[39;49m\u001B[43mrequest\u001B[49m\u001B[43m)\u001B[49m\n",
      "File \u001B[0;32m~/Documents/github.com/env_prl/lib/python3.8/site-packages/sagemaker/local/local_session.py:185\u001B[0m, in \u001B[0;36mLocalSagemakerClient.create_training_job\u001B[0;34m(self, TrainingJobName, AlgorithmSpecification, OutputDataConfig, ResourceConfig, InputDataConfig, Environment, **kwargs)\u001B[0m\n\u001B[1;32m    183\u001B[0m InputDataConfig \u001B[38;5;241m=\u001B[39m InputDataConfig \u001B[38;5;129;01mor\u001B[39;00m {}\n\u001B[1;32m    184\u001B[0m Environment \u001B[38;5;241m=\u001B[39m Environment \u001B[38;5;129;01mor\u001B[39;00m {}\n\u001B[0;32m--> 185\u001B[0m container \u001B[38;5;241m=\u001B[39m \u001B[43m_SageMakerContainer\u001B[49m\u001B[43m(\u001B[49m\n\u001B[1;32m    186\u001B[0m \u001B[43m    \u001B[49m\u001B[43mResourceConfig\u001B[49m\u001B[43m[\u001B[49m\u001B[38;5;124;43m\"\u001B[39;49m\u001B[38;5;124;43mInstanceType\u001B[39;49m\u001B[38;5;124;43m\"\u001B[39;49m\u001B[43m]\u001B[49m\u001B[43m,\u001B[49m\n\u001B[1;32m    187\u001B[0m \u001B[43m    \u001B[49m\u001B[43mResourceConfig\u001B[49m\u001B[43m[\u001B[49m\u001B[38;5;124;43m\"\u001B[39;49m\u001B[38;5;124;43mInstanceCount\u001B[39;49m\u001B[38;5;124;43m\"\u001B[39;49m\u001B[43m]\u001B[49m\u001B[43m,\u001B[49m\n\u001B[1;32m    188\u001B[0m \u001B[43m    \u001B[49m\u001B[43mAlgorithmSpecification\u001B[49m\u001B[43m[\u001B[49m\u001B[38;5;124;43m\"\u001B[39;49m\u001B[38;5;124;43mTrainingImage\u001B[39;49m\u001B[38;5;124;43m\"\u001B[39;49m\u001B[43m]\u001B[49m\u001B[43m,\u001B[49m\n\u001B[1;32m    189\u001B[0m \u001B[43m    \u001B[49m\u001B[43msagemaker_session\u001B[49m\u001B[38;5;241;43m=\u001B[39;49m\u001B[38;5;28;43mself\u001B[39;49m\u001B[38;5;241;43m.\u001B[39;49m\u001B[43msagemaker_session\u001B[49m\u001B[43m,\u001B[49m\n\u001B[1;32m    190\u001B[0m \u001B[43m\u001B[49m\u001B[43m)\u001B[49m\n\u001B[1;32m    191\u001B[0m training_job \u001B[38;5;241m=\u001B[39m _LocalTrainingJob(container)\n\u001B[1;32m    192\u001B[0m hyperparameters \u001B[38;5;241m=\u001B[39m kwargs[\u001B[38;5;124m\"\u001B[39m\u001B[38;5;124mHyperParameters\u001B[39m\u001B[38;5;124m\"\u001B[39m] \u001B[38;5;28;01mif\u001B[39;00m \u001B[38;5;124m\"\u001B[39m\u001B[38;5;124mHyperParameters\u001B[39m\u001B[38;5;124m\"\u001B[39m \u001B[38;5;129;01min\u001B[39;00m kwargs \u001B[38;5;28;01melse\u001B[39;00m {}\n",
      "File \u001B[0;32m~/Documents/github.com/env_prl/lib/python3.8/site-packages/sagemaker/local/image.py:91\u001B[0m, in \u001B[0;36m_SageMakerContainer.__init__\u001B[0;34m(self, instance_type, instance_count, image, sagemaker_session, container_entrypoint, container_arguments)\u001B[0m\n\u001B[1;32m     89\u001B[0m \u001B[38;5;66;03m# check if docker-compose is installed\u001B[39;00m\n\u001B[1;32m     90\u001B[0m \u001B[38;5;28;01mif\u001B[39;00m find_executable(\u001B[38;5;124m\"\u001B[39m\u001B[38;5;124mdocker-compose\u001B[39m\u001B[38;5;124m\"\u001B[39m) \u001B[38;5;129;01mis\u001B[39;00m \u001B[38;5;28;01mNone\u001B[39;00m:\n\u001B[0;32m---> 91\u001B[0m     \u001B[38;5;28;01mraise\u001B[39;00m \u001B[38;5;167;01mImportError\u001B[39;00m(\n\u001B[1;32m     92\u001B[0m         \u001B[38;5;124m\"\u001B[39m\u001B[38;5;124m'\u001B[39m\u001B[38;5;124mdocker-compose\u001B[39m\u001B[38;5;124m'\u001B[39m\u001B[38;5;124m is not installed. \u001B[39m\u001B[38;5;124m\"\u001B[39m\n\u001B[1;32m     93\u001B[0m         \u001B[38;5;124m\"\u001B[39m\u001B[38;5;124mLocal Mode features will not work without docker-compose. \u001B[39m\u001B[38;5;124m\"\u001B[39m\n\u001B[1;32m     94\u001B[0m         \u001B[38;5;124m\"\u001B[39m\u001B[38;5;124mFor more information on how to install \u001B[39m\u001B[38;5;124m'\u001B[39m\u001B[38;5;124mdocker-compose\u001B[39m\u001B[38;5;124m'\u001B[39m\u001B[38;5;124m, please, see \u001B[39m\u001B[38;5;124m\"\u001B[39m\n\u001B[1;32m     95\u001B[0m         \u001B[38;5;124m\"\u001B[39m\u001B[38;5;124mhttps://docs.docker.com/compose/install/\u001B[39m\u001B[38;5;124m\"\u001B[39m\n\u001B[1;32m     96\u001B[0m     )\n\u001B[1;32m     98\u001B[0m \u001B[38;5;28mself\u001B[39m\u001B[38;5;241m.\u001B[39msagemaker_session \u001B[38;5;241m=\u001B[39m sagemaker_session \u001B[38;5;129;01mor\u001B[39;00m LocalSession()\n\u001B[1;32m     99\u001B[0m \u001B[38;5;28mself\u001B[39m\u001B[38;5;241m.\u001B[39minstance_type \u001B[38;5;241m=\u001B[39m instance_type\n",
      "\u001B[0;31mImportError\u001B[0m: 'docker-compose' is not installed. Local Mode features will not work without docker-compose. For more information on how to install 'docker-compose', please, see https://docs.docker.com/compose/install/"
     ]
    }
   ],
   "source": [
    "from sagemaker.estimator import Estimator\n",
    "\n",
    "hyperparameters = {\"epochs\": 2}\n",
    "\n",
    "estimator = Estimator(\n",
    "    role=role,\n",
    "    train_instance_count=1,\n",
    "    train_instance_type=instance_type,\n",
    "    image_uri=image_uri,\n",
    "    hyperparameters=hyperparameters,\n",
    ")\n",
    "\n",
    "estimator.fit(\"file:///home/sascha/Documents/github.com/prl_reinforce/prl/reinforce/experiments/try_sagemaker_train.py\")"
   ],
   "metadata": {
    "collapsed": false
   }
  }
 ],
 "metadata": {
  "kernelspec": {
   "display_name": "Python 3",
   "language": "python",
   "name": "python3"
  },
  "language_info": {
   "codemirror_mode": {
    "name": "ipython",
    "version": 2
   },
   "file_extension": ".py",
   "mimetype": "text/x-python",
   "name": "python",
   "nbconvert_exporter": "python",
   "pygments_lexer": "ipython2",
   "version": "2.7.6"
  }
 },
 "nbformat": 4,
 "nbformat_minor": 0
}
